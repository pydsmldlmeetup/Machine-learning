{
 "cells": [
  {
   "cell_type": "code",
   "execution_count": 1,
   "metadata": {},
   "outputs": [],
   "source": [
    "import pandas as pd\n",
    "import numpy as np\n",
    "import matplotlib.pyplot as plt"
   ]
  },
  {
   "cell_type": "markdown",
   "metadata": {},
   "source": [
    "## ロジスティク(シグモイド)関数"
   ]
  },
  {
   "cell_type": "code",
   "execution_count": 2,
   "metadata": {},
   "outputs": [
    {
     "data": {
      "text/plain": [
       "<module 'matplotlib.pyplot' from 'C:\\\\Users\\\\Admin01\\\\Anaconda3\\\\lib\\\\site-packages\\\\matplotlib\\\\pyplot.py'>"
      ]
     },
     "execution_count": 2,
     "metadata": {},
     "output_type": "execute_result"
    },
    {
     "data": {
      "image/png": "[encoded data removed]",
      "text/plain": [
       "<matplotlib.figure.Figure at 0x2024db185c0>"
      ]
     },
     "metadata": {},
     "output_type": "display_data"
    }
   ],
   "source": [
    "a = 1\n",
    "\n",
    "def logi_func(x):\n",
    "    return 1 / (1 + np.exp(-a*x))\n",
    "\n",
    "X = np.arange(-10, 10, 0.2)\n",
    "Y = logi_func(X)\n",
    "\n",
    "plt.plot(X, Y)\n",
    "plt"
   ]
  },
  {
   "cell_type": "markdown",
   "metadata": {},
   "source": [
    "## ロジスティク回帰\n",
    "### P(Y=1|x) = σ(w0 + w1X)"
   ]
  },
  {
   "cell_type": "code",
   "execution_count": 3,
   "metadata": {},
   "outputs": [],
   "source": [
    "# データの読み込みと整形\n",
    "# 日照時間をもとに晴れたかどうかを予測（\"晴れ\"が含まれる天気は全て晴れとする）\n",
    "# 晴れを1 それ以外の転機を0とする（逆でも可）\n",
    "\n",
    "df = pd.read_csv('./weather.csv')\n",
    "df['weather'] = df['weather'].replace('(.*)晴(.*)', '1.0', regex=True)\n",
    "df['weather'] = df['weather'].where(df['weather'] == '1.0', '0.0')\n",
    "df['weather'] = df['weather'].astype(np.float16)\n",
    "\n",
    "# df"
   ]
  },
  {
   "cell_type": "code",
   "execution_count": 4,
   "metadata": {},
   "outputs": [
    {
     "data": {
      "text/plain": [
       "LogisticRegression(C=1.0, class_weight=None, dual=False, fit_intercept=True,\n",
       "          intercept_scaling=1, max_iter=100, multi_class='ovr', n_jobs=1,\n",
       "          penalty='l2', random_state=None, solver='liblinear', tol=0.0001,\n",
       "          verbose=0, warm_start=False)"
      ]
     },
     "execution_count": 4,
     "metadata": {},
     "output_type": "execute_result"
    }
   ],
   "source": [
    "from sklearn.model_selection import train_test_split\n",
    "from sklearn.linear_model import LogisticRegression\n",
    "\n",
    "# 訓練データとテストデータの作成（ホールドアウト法）\n",
    "X_train, X_test, Y_train, Y_test = train_test_split(df['sunlight'], df['weather'], test_size=0.3)\n",
    "\n",
    "lr = LogisticRegression()\n",
    "lr.fit(X_train.values.reshape(X_train.size, 1), Y_train)\n"
   ]
  },
  {
   "cell_type": "code",
   "execution_count": 5,
   "metadata": {},
   "outputs": [
    {
     "name": "stdout",
     "output_type": "stream",
     "text": [
      "0.8713503649635036\n"
     ]
    }
   ],
   "source": [
    "# テストデータを用いて精度を確認\n",
    "print (lr.score(X_test.values.reshape(X_test.size, 1), Y_test))"
   ]
  },
  {
   "cell_type": "code",
   "execution_count": 6,
   "metadata": {},
   "outputs": [
    {
     "data": {
      "text/plain": [
       "<matplotlib.collections.PathCollection at 0x2024fc78c18>"
      ]
     },
     "execution_count": 6,
     "metadata": {},
     "output_type": "execute_result"
    },
    {
     "data": {
      "image/png": "[encoded data removed]",
      "text/plain": [
       "<matplotlib.figure.Figure at 0x2024fc3e278>"
      ]
     },
     "metadata": {},
     "output_type": "display_data"
    }
   ],
   "source": [
    "# 可視化\n",
    "\n",
    "w0 = lr.intercept_[0]\n",
    "w1 = lr.coef_[0,0]\n",
    "\n",
    "x = np.arange(0, 12, 0.2)\n",
    "plt.plot(x, logi_func(w0 + w1*x))\n",
    "\n",
    "# 全てのデータをプロットすると煩雑であるため100個までプロット\n",
    "plt.scatter(X_train[:100], Y_train[:100]+np.random.rand(100)/50)"
   ]
  }
 ],
 "metadata": {
  "kernelspec": {
   "display_name": "Python 3",
   "language": "python",
   "name": "python3"
  },
  "language_info": {
   "codemirror_mode": {
    "name": "ipython",
    "version": 3
   },
   "file_extension": ".py",
   "mimetype": "text/x-python",
   "name": "python",
   "nbconvert_exporter": "python",
   "pygments_lexer": "ipython3",
   "version": "3.6.4"
  }
 },
 "nbformat": 4,
 "nbformat_minor": 2
}
